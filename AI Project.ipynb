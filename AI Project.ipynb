{
  "nbformat": 4,
  "nbformat_minor": 0,
  "metadata": {
    "colab": {
      "provenance": []
    },
    "kernelspec": {
      "name": "python3",
      "display_name": "Python 3"
    },
    "language_info": {
      "name": "python"
    }
  },
  "cells": [
    {
      "cell_type": "code",
      "execution_count": 16,
      "metadata": {
        "colab": {
          "base_uri": "https://localhost:8080/"
        },
        "id": "qD9B-MYU-nlx",
        "outputId": "faa30a75-789d-4f5a-a074-24de90301cb0"
      },
      "outputs": [
        {
          "output_type": "stream",
          "name": "stdout",
          "text": [
            "           id diagnosis  radius_mean  texture_mean  perimeter_mean  area_mean  \\\n",
            "0      842302         M        17.99         10.38          122.80     1001.0   \n",
            "1      842517         M        20.57         17.77          132.90     1326.0   \n",
            "2    84300903         M        19.69         21.25          130.00     1203.0   \n",
            "3    84348301         M        11.42         20.38           77.58      386.1   \n",
            "4    84358402         M        20.29         14.34          135.10     1297.0   \n",
            "..        ...       ...          ...           ...             ...        ...   \n",
            "564    926424         M        21.56         22.39          142.00     1479.0   \n",
            "565    926682         M        20.13         28.25          131.20     1261.0   \n",
            "566    926954         M        16.60         28.08          108.30      858.1   \n",
            "567    927241         M        20.60         29.33          140.10     1265.0   \n",
            "568     92751         B         7.76         24.54           47.92      181.0   \n",
            "\n",
            "     smoothness_mean  compactness_mean  concavity_mean  concave points_mean  \\\n",
            "0            0.11840           0.27760         0.30010              0.14710   \n",
            "1            0.08474           0.07864         0.08690              0.07017   \n",
            "2            0.10960           0.15990         0.19740              0.12790   \n",
            "3            0.14250           0.28390         0.24140              0.10520   \n",
            "4            0.10030           0.13280         0.19800              0.10430   \n",
            "..               ...               ...             ...                  ...   \n",
            "564          0.11100           0.11590         0.24390              0.13890   \n",
            "565          0.09780           0.10340         0.14400              0.09791   \n",
            "566          0.08455           0.10230         0.09251              0.05302   \n",
            "567          0.11780           0.27700         0.35140              0.15200   \n",
            "568          0.05263           0.04362         0.00000              0.00000   \n",
            "\n",
            "     ...  radius_worst  texture_worst  perimeter_worst  area_worst  \\\n",
            "0    ...        25.380          17.33           184.60      2019.0   \n",
            "1    ...        24.990          23.41           158.80      1956.0   \n",
            "2    ...        23.570          25.53           152.50      1709.0   \n",
            "3    ...        14.910          26.50            98.87       567.7   \n",
            "4    ...        22.540          16.67           152.20      1575.0   \n",
            "..   ...           ...            ...              ...         ...   \n",
            "564  ...        25.450          26.40           166.10      2027.0   \n",
            "565  ...        23.690          38.25           155.00      1731.0   \n",
            "566  ...        18.980          34.12           126.70      1124.0   \n",
            "567  ...        25.740          39.42           184.60      1821.0   \n",
            "568  ...         9.456          30.37            59.16       268.6   \n",
            "\n",
            "     smoothness_worst  compactness_worst  concavity_worst  \\\n",
            "0             0.16220            0.66560           0.7119   \n",
            "1             0.12380            0.18660           0.2416   \n",
            "2             0.14440            0.42450           0.4504   \n",
            "3             0.20980            0.86630           0.6869   \n",
            "4             0.13740            0.20500           0.4000   \n",
            "..                ...                ...              ...   \n",
            "564           0.14100            0.21130           0.4107   \n",
            "565           0.11660            0.19220           0.3215   \n",
            "566           0.11390            0.30940           0.3403   \n",
            "567           0.16500            0.86810           0.9387   \n",
            "568           0.08996            0.06444           0.0000   \n",
            "\n",
            "     concave points_worst  symmetry_worst  fractal_dimension_worst  \n",
            "0                  0.2654          0.4601                  0.11890  \n",
            "1                  0.1860          0.2750                  0.08902  \n",
            "2                  0.2430          0.3613                  0.08758  \n",
            "3                  0.2575          0.6638                  0.17300  \n",
            "4                  0.1625          0.2364                  0.07678  \n",
            "..                    ...             ...                      ...  \n",
            "564                0.2216          0.2060                  0.07115  \n",
            "565                0.1628          0.2572                  0.06637  \n",
            "566                0.1418          0.2218                  0.07820  \n",
            "567                0.2650          0.4087                  0.12400  \n",
            "568                0.0000          0.2871                  0.07039  \n",
            "\n",
            "[569 rows x 32 columns]\n",
            "<class 'pandas.core.frame.DataFrame'>\n",
            "RangeIndex: 569 entries, 0 to 568\n",
            "Data columns (total 32 columns):\n",
            " #   Column                   Non-Null Count  Dtype  \n",
            "---  ------                   --------------  -----  \n",
            " 0   id                       569 non-null    int64  \n",
            " 1   diagnosis                569 non-null    object \n",
            " 2   radius_mean              569 non-null    float64\n",
            " 3   texture_mean             569 non-null    float64\n",
            " 4   perimeter_mean           569 non-null    float64\n",
            " 5   area_mean                569 non-null    float64\n",
            " 6   smoothness_mean          569 non-null    float64\n",
            " 7   compactness_mean         569 non-null    float64\n",
            " 8   concavity_mean           569 non-null    float64\n",
            " 9   concave points_mean      569 non-null    float64\n",
            " 10  symmetry_mean            569 non-null    float64\n",
            " 11  fractal_dimension_mean   569 non-null    float64\n",
            " 12  radius_se                569 non-null    float64\n",
            " 13  texture_se               569 non-null    float64\n",
            " 14  perimeter_se             569 non-null    float64\n",
            " 15  area_se                  569 non-null    float64\n",
            " 16  smoothness_se            569 non-null    float64\n",
            " 17  compactness_se           569 non-null    float64\n",
            " 18  concavity_se             569 non-null    float64\n",
            " 19  concave points_se        569 non-null    float64\n",
            " 20  symmetry_se              569 non-null    float64\n",
            " 21  fractal_dimension_se     569 non-null    float64\n",
            " 22  radius_worst             569 non-null    float64\n",
            " 23  texture_worst            569 non-null    float64\n",
            " 24  perimeter_worst          569 non-null    float64\n",
            " 25  area_worst               569 non-null    float64\n",
            " 26  smoothness_worst         569 non-null    float64\n",
            " 27  compactness_worst        569 non-null    float64\n",
            " 28  concavity_worst          569 non-null    float64\n",
            " 29  concave points_worst     569 non-null    float64\n",
            " 30  symmetry_worst           569 non-null    float64\n",
            " 31  fractal_dimension_worst  569 non-null    float64\n",
            "dtypes: float64(30), int64(1), object(1)\n",
            "memory usage: 142.4+ KB\n",
            "None\n"
          ]
        }
      ],
      "source": [
        "import pandas as pd\n",
        "\n",
        "data = pd.read_csv('./breast-cancer.csv')\n",
        "\n",
        "\n",
        "print(data)\n",
        "print(data.info())\n"
      ]
    },
    {
      "cell_type": "code",
      "source": [
        "# agar id colum coumn exit karta hai to remove kardo\n",
        "if 'id' in data.columns:\n",
        "    data.drop(columns=['id'], inplace=True)\n",
        "\n",
        "# 'diagnosis' column ko  binary binary mein convert: M = 1, B = 0\n",
        "data['diagnosis'] = data['diagnosis'].apply(lambda x: 1 if x == 'M' else 0)\n",
        "\n",
        "# checking remainsg missing value\n",
        "missing_values = data.isnull().sum()\n",
        "\n",
        "missing_values\n"
      ],
      "metadata": {
        "colab": {
          "base_uri": "https://localhost:8080/"
        },
        "id": "SMAhYekB_CsR",
        "outputId": "31fe5769-9e52-41cb-a3db-c5209df65b2a"
      },
      "execution_count": 17,
      "outputs": [
        {
          "output_type": "execute_result",
          "data": {
            "text/plain": [
              "diagnosis                  0\n",
              "radius_mean                0\n",
              "texture_mean               0\n",
              "perimeter_mean             0\n",
              "area_mean                  0\n",
              "smoothness_mean            0\n",
              "compactness_mean           0\n",
              "concavity_mean             0\n",
              "concave points_mean        0\n",
              "symmetry_mean              0\n",
              "fractal_dimension_mean     0\n",
              "radius_se                  0\n",
              "texture_se                 0\n",
              "perimeter_se               0\n",
              "area_se                    0\n",
              "smoothness_se              0\n",
              "compactness_se             0\n",
              "concavity_se               0\n",
              "concave points_se          0\n",
              "symmetry_se                0\n",
              "fractal_dimension_se       0\n",
              "radius_worst               0\n",
              "texture_worst              0\n",
              "perimeter_worst            0\n",
              "area_worst                 0\n",
              "smoothness_worst           0\n",
              "compactness_worst          0\n",
              "concavity_worst            0\n",
              "concave points_worst       0\n",
              "symmetry_worst             0\n",
              "fractal_dimension_worst    0\n",
              "dtype: int64"
            ]
          },
          "metadata": {},
          "execution_count": 17
        }
      ]
    },
    {
      "cell_type": "code",
      "source": [
        "from sklearn.model_selection import train_test_split\n",
        "from sklearn.preprocessing import StandardScaler\n",
        "\n",
        "# Spliting data into features and target\n",
        "X = data.drop('diagnosis', axis=1)\n",
        "y = data['diagnosis']\n",
        "\n",
        "X_train, X_test, y_train, y_test = train_test_split(X, y, test_size=0.2, random_state=100)\n",
        "\n",
        "scaler = StandardScaler()\n",
        "X_train = scaler.fit_transform(X_train)\n",
        "X_test = scaler.transform(X_test)\n",
        "X_train.shape, X_test.shape, y_train.shape, y_test.shape\n"
      ],
      "metadata": {
        "id": "cgX4GJnuCDbx",
        "colab": {
          "base_uri": "https://localhost:8080/"
        },
        "outputId": "52e251fe-4e28-4273-8966-7e08a47b4c3d"
      },
      "execution_count": 18,
      "outputs": [
        {
          "output_type": "execute_result",
          "data": {
            "text/plain": [
              "((455, 30), (114, 30), (455,), (114,))"
            ]
          },
          "metadata": {},
          "execution_count": 18
        }
      ]
    },
    {
      "cell_type": "code",
      "source": [
        "#KNN DATA\n",
        "from sklearn.neighbors import KNeighborsClassifier\n",
        "from sklearn.metrics import accuracy_score, precision_score, recall_score, f1_score, roc_auc_score\n",
        "from sklearn.model_selection import cross_val_score\n",
        "\n",
        "\n",
        "knn_model = KNeighborsClassifier()\n",
        "knn_model.fit(X_train, y_train)\n",
        "y_pred = knn_model.predict(X_test)\n",
        "\n",
        "knn_results = {\n",
        "    'accuracy': accuracy_score(y_test, y_pred),\n",
        "    'precision': precision_score(y_test, y_pred),\n",
        "    'recall': recall_score(y_test, y_pred),\n",
        "    'f1_score': f1_score(y_test, y_pred),\n",
        "    'roc_auc': roc_auc_score(y_test, knn_model.predict_proba(X_test)[:, 1]),\n",
        "    'cross_val_score': cross_val_score(knn_model, X, y, cv=5).mean()\n",
        "}\n",
        "\n",
        "knn_results_df = pd.DataFrame([knn_results], index=['KNN'])\n",
        "print(knn_results_df)\n",
        "\n",
        "\n"
      ],
      "metadata": {
        "colab": {
          "base_uri": "https://localhost:8080/"
        },
        "id": "e1Ctj-KBCMUA",
        "outputId": "397737a7-4e0e-4aad-8baa-445a9193feb5"
      },
      "execution_count": 19,
      "outputs": [
        {
          "output_type": "stream",
          "name": "stdout",
          "text": [
            "     accuracy  precision    recall  f1_score   roc_auc  cross_val_score\n",
            "KNN  0.947368   0.957447  0.918367    0.9375  0.985871         0.927946\n"
          ]
        }
      ]
    },
    {
      "cell_type": "code",
      "source": [
        "#Decision Tree\n",
        "from sklearn.tree import DecisionTreeClassifier\n",
        "from sklearn.metrics import accuracy_score, precision_score, recall_score, f1_score, roc_auc_score\n",
        "from sklearn.model_selection import cross_val_score\n",
        "\n",
        "decision_tree_model = DecisionTreeClassifier(random_state=70)\n",
        "decision_tree_model.fit(X_train, y_train)\n",
        "y_pred = decision_tree_model.predict(X_test)\n",
        "\n",
        "decision_tree_results = {\n",
        "    'accuracy': accuracy_score(y_test, y_pred),\n",
        "    'precision': precision_score(y_test, y_pred),\n",
        "    'recall': recall_score(y_test, y_pred),\n",
        "    'f1_score': f1_score(y_test, y_pred),\n",
        "    'roc_auc': roc_auc_score(y_test, decision_tree_model.predict_proba(X_test)[:, 1]),\n",
        "    'cross_val_score': cross_val_score(decision_tree_model, X, y, cv=5).mean()\n",
        "}\n",
        "\n",
        "decision_tree_results_df = pd.DataFrame([decision_tree_results], index=['Decision Tree'])\n",
        "print(decision_tree_results_df)\n",
        "\n",
        "\n"
      ],
      "metadata": {
        "colab": {
          "base_uri": "https://localhost:8080/"
        },
        "id": "Ir8hnI9SD6q_",
        "outputId": "f493ebcb-3da6-489a-8fd8-c4800989c718"
      },
      "execution_count": 20,
      "outputs": [
        {
          "output_type": "stream",
          "name": "stdout",
          "text": [
            "               accuracy  precision    recall  f1_score   roc_auc  \\\n",
            "Decision Tree  0.938596       0.92  0.938776  0.929293  0.938619   \n",
            "\n",
            "               cross_val_score  \n",
            "Decision Tree         0.919143  \n"
          ]
        }
      ]
    },
    {
      "cell_type": "code",
      "source": [
        "#Random Forest\n",
        "from sklearn.ensemble import RandomForestClassifier\n",
        "from sklearn.metrics import accuracy_score, precision_score, recall_score, f1_score, roc_auc_score\n",
        "from sklearn.model_selection import cross_val_score\n",
        "\n",
        "random_forest_model = RandomForestClassifier(random_state=70)\n",
        "random_forest_model.fit(X_train, y_train)\n",
        "y_pred = random_forest_model.predict(X_test)\n",
        "\n",
        "random_forest_results = {\n",
        "    'accuracy': accuracy_score(y_test, y_pred),\n",
        "    'precision': precision_score(y_test, y_pred),\n",
        "    'recall': recall_score(y_test, y_pred),\n",
        "    'f1_score': f1_score(y_test, y_pred),\n",
        "    'roc_auc': roc_auc_score(y_test, random_forest_model.predict_proba(X_test)[:, 1]),\n",
        "    'cross_val_score': cross_val_score(random_forest_model, X, y, cv=5).mean()\n",
        "}\n",
        "\n",
        "random_forest_results_df = pd.DataFrame([random_forest_results], index=['Random Forest'])\n",
        "print(random_forest_results_df)\n",
        "\n",
        "\n"
      ],
      "metadata": {
        "colab": {
          "base_uri": "https://localhost:8080/"
        },
        "id": "GwqsNysaEZL0",
        "outputId": "d7203d59-f645-42ca-ea2a-427b6fc8bc49"
      },
      "execution_count": 21,
      "outputs": [
        {
          "output_type": "stream",
          "name": "stdout",
          "text": [
            "               accuracy  precision    recall  f1_score   roc_auc  \\\n",
            "Random Forest   0.95614   0.958333  0.938776  0.948454  0.993878   \n",
            "\n",
            "               cross_val_score  \n",
            "Random Forest         0.963127  \n"
          ]
        }
      ]
    },
    {
      "cell_type": "code",
      "source": [
        "#Cascading Classifiers\n",
        "from sklearn.neighbors import KNeighborsClassifier\n",
        "from sklearn.ensemble import RandomForestClassifier\n",
        "from sklearn.metrics import accuracy_score, precision_score, recall_score, f1_score, roc_auc_score\n",
        "from sklearn.model_selection import cross_val_score\n",
        "import numpy as np\n",
        "\n",
        "\n",
        "knn_model = KNeighborsClassifier()\n",
        "\n",
        "\n",
        "knn_model.fit(X_train, y_train)\n",
        "knn_train_preds = knn_model.predict(X_train)\n",
        "knn_test_preds = knn_model.predict(X_test)\n",
        "\n",
        "# KNN predecition ko as a feature add kiya hai\n",
        "X_train_with_knn = np.hstack((X_train, knn_train_preds.reshape(-1, 1)))\n",
        "X_test_with_knn = np.hstack((X_test, knn_test_preds.reshape(-1, 1)))\n",
        "\n",
        "# Random Forest model training\n",
        "random_forest_model = RandomForestClassifier(random_state=70)\n",
        "random_forest_model.fit(X_train_with_knn, y_train)\n",
        "\n",
        "# Making predictions with Random Forest model\n",
        "y_pred = random_forest_model.predict(X_test_with_knn)\n",
        "\n",
        "cascading_results = {\n",
        "    'accuracy': accuracy_score(y_test, y_pred),\n",
        "    'precision': precision_score(y_test, y_pred),\n",
        "    'recall': recall_score(y_test, y_pred),\n",
        "    'f1_score': f1_score(y_test, y_pred),\n",
        "    'roc_auc': roc_auc_score(y_test, random_forest_model.predict_proba(X_test_with_knn)[:, 1]),\n",
        "    'cross_val_score': cross_val_score(random_forest_model, np.hstack((X, knn_model.predict(X).reshape(-1, 1))), y, cv=5).mean()\n",
        "}\n",
        "\n",
        "cascading_results_df = pd.DataFrame([cascading_results], index=['Cascading Classifier'])\n",
        "print(cascading_results_df)\n"
      ],
      "metadata": {
        "colab": {
          "base_uri": "https://localhost:8080/"
        },
        "id": "oFxf-A0uEwop",
        "outputId": "40630cbd-84d4-4413-f03c-7d86dd5bec47"
      },
      "execution_count": 22,
      "outputs": [
        {
          "output_type": "stream",
          "name": "stderr",
          "text": [
            "/usr/local/lib/python3.10/dist-packages/sklearn/base.py:432: UserWarning: X has feature names, but KNeighborsClassifier was fitted without feature names\n",
            "  warnings.warn(\n"
          ]
        },
        {
          "output_type": "stream",
          "name": "stdout",
          "text": [
            "                      accuracy  precision    recall  f1_score   roc_auc  \\\n",
            "Cascading Classifier  0.947368   0.957447  0.918367    0.9375  0.987755   \n",
            "\n",
            "                      cross_val_score  \n",
            "Cascading Classifier         0.952569  \n"
          ]
        }
      ]
    }
  ]
}